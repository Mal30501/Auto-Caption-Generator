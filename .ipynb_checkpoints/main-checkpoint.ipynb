{
 "cells": [
  {
   "cell_type": "code",
   "execution_count": 73,
   "metadata": {},
   "outputs": [],
   "source": [
    "import os\n",
    "import cv2\n",
    "import pickle\n",
    "import numpy as np\n",
    "from imutils import paths"
   ]
  },
  {
   "cell_type": "code",
   "execution_count": 29,
   "metadata": {},
   "outputs": [],
   "source": [
    "from sklearn.preprocessing import LabelBinarizer"
   ]
  },
  {
   "cell_type": "code",
   "execution_count": 40,
   "metadata": {},
   "outputs": [],
   "source": [
    "from sklearn.model_selection import train_test_split"
   ]
  },
  {
   "cell_type": "code",
   "execution_count": 61,
   "metadata": {},
   "outputs": [],
   "source": [
    "from keras.preprocessing.image import ImageDataGenerator\n",
    "\n",
    "from keras.applications import ResNet50\n",
    "from keras.layers import Input\n",
    "from keras.layers.pooling import AveragePooling2D\n",
    "from keras.layers.core import Flatten\n",
    "from keras.layers.core import Dense\n",
    "\n",
    "from keras.layers.core import Dropout\n",
    "\n",
    "from keras.models import Model\n",
    "from keras.optimizers import SGD"
   ]
  },
  {
   "cell_type": "code",
   "execution_count": 53,
   "metadata": {},
   "outputs": [],
   "source": [
    "datapath=r\"F:\\sgp_5sem\\data\"\n",
    "outputmodel=r\"F:\\sgp_5sem\\output\\videoclassificationModel\"\n",
    "outputlabelbinarizer=r\"F:\\sgp_5sem\\output\\videoclassificationbinarizer\"\n",
    "epoch=25"
   ]
  },
  {
   "cell_type": "code",
   "execution_count": 54,
   "metadata": {},
   "outputs": [
    {
     "name": "stdout",
     "output_type": "stream",
     "text": [
      "images being loaded\n"
     ]
    }
   ],
   "source": [
    "Sports_Labels=set(['cricket','hockey','baseball'])\n",
    "print(\"images being loaded\")\n",
    "pathtoimages=list(paths.list_images(datapath))\n",
    "data=[]\n",
    "labels=[]\n",
    "\n",
    "for images in pathtoimages:\n",
    "    label=images.split(os.path.sep)[-2]\n",
    "    if label not in Sports_Labels:\n",
    "        continue\n",
    "    image=cv2.imread(images)\n",
    "    image=cv2.cvtColor(image,cv2.COLOR_BGR2RGB)\n",
    "    image=cv2.resize(image,(244,244))\n",
    "    data.append(image)\n",
    "    labels.append(label)"
   ]
  },
  {
   "cell_type": "code",
   "execution_count": 55,
   "metadata": {},
   "outputs": [],
   "source": [
    "data=np.array(data)\n",
    "labels=np.array(labels)\n",
    "\n",
    "lb=LabelBinarizer()\n",
    "labels=lb.fit_transform(labels)"
   ]
  },
  {
   "cell_type": "code",
   "execution_count": 56,
   "metadata": {},
   "outputs": [],
   "source": [
    "(X_train, X_test,Y_train, Y_test)=train_test_split(data,labels,test_size=0.25, stratify=labels,random_state=42)"
   ]
  },
  {
   "cell_type": "code",
   "execution_count": 57,
   "metadata": {},
   "outputs": [],
   "source": [
    "trainingAugmentation=ImageDataGenerator(\n",
    "    rotation_range=30,\n",
    "    zoom_range=0.15,\n",
    "    width_shift_range=0.2,\n",
    "    height_shift_range=0.2,\n",
    "    shear_range=0.15,\n",
    "    horizontal_flip=True,\n",
    "    fill_mode=\"nearest\"\n",
    ")\n",
    "\n",
    "validationAugmentation=ImageDataGenerator()\n",
    "mean=np.array([123.68,116.779,103.939],dtype=\"float32\")\n",
    "trainingAugmentation.mean=mean\n",
    "validationAugmentation.mean=mean"
   ]
  },
  {
   "cell_type": "code",
   "execution_count": 64,
   "metadata": {},
   "outputs": [],
   "source": [
    "baseModel=ResNet50(weights=\"imagenet\",include_top=False, input_tensor=Input(shape=(244,244,3)))\n",
    "\n",
    "headModel=baseModel.output\n",
    "headModel=AveragePooling2D(pool_size=(7,7))(headModel)\n",
    "headModel=Flatten(name=\"flatten\")(headModel)\n",
    "headModel=Dense(5112,activation=\"relu\")(headModel)\n",
    "headModel=Dropout(0.5)(headModel)\n",
    "headModel=Dense(len(lb.classes_),activation=\"softmax\")(headModel)\n",
    "model=Model(inputs=baseModel.input,outputs=headModel)\n",
    "\n",
    "for basemodelLayers in baseModel.layers:\n",
    "    basemodelLayers.trainable=False"
   ]
  },
  {
   "cell_type": "code",
   "execution_count": 65,
   "metadata": {},
   "outputs": [],
   "source": [
    "opt=SGD(lr=0.0001,momentum=0.9,decay=0.0001/epoch)"
   ]
  },
  {
   "cell_type": "code",
   "execution_count": 71,
   "metadata": {},
   "outputs": [],
   "source": [
    "model.compile(loss=\"categorical_crossentropy\",optimizer=opt,metrics=[\"accuracy\"])"
   ]
  },
  {
   "cell_type": "code",
   "execution_count": 72,
   "metadata": {},
   "outputs": [
    {
     "name": "stdout",
     "output_type": "stream",
     "text": [
      "Epoch 1/25\n",
      "46/46 [==============================] - 164s 4s/step - loss: 0.8932 - accuracy: 0.5892 - val_loss: 0.6437 - val_accuracy: 0.7625\n",
      "Epoch 2/25\n",
      "46/46 [==============================] - 152s 3s/step - loss: 0.7694 - accuracy: 0.6724 - val_loss: 0.5660 - val_accuracy: 0.8062\n",
      "Epoch 3/25\n",
      "46/46 [==============================] - 153s 3s/step - loss: 0.6977 - accuracy: 0.6905 - val_loss: 0.5203 - val_accuracy: 0.8021\n",
      "Epoch 4/25\n",
      "46/46 [==============================] - 152s 3s/step - loss: 0.6224 - accuracy: 0.7439 - val_loss: 0.4673 - val_accuracy: 0.8458\n",
      "Epoch 5/25\n",
      "46/46 [==============================] - 153s 3s/step - loss: 0.6041 - accuracy: 0.7460 - val_loss: 0.4532 - val_accuracy: 0.8521\n",
      "Epoch 6/25\n",
      "46/46 [==============================] - 154s 3s/step - loss: 0.5590 - accuracy: 0.7724 - val_loss: 0.4508 - val_accuracy: 0.8417\n",
      "Epoch 7/25\n",
      "46/46 [==============================] - 153s 3s/step - loss: 0.5340 - accuracy: 0.7842 - val_loss: 0.4272 - val_accuracy: 0.8417\n",
      "Epoch 8/25\n",
      "46/46 [==============================] - 152s 3s/step - loss: 0.5183 - accuracy: 0.7849 - val_loss: 0.4173 - val_accuracy: 0.8562\n",
      "Epoch 9/25\n",
      "46/46 [==============================] - 150s 3s/step - loss: 0.4992 - accuracy: 0.7870 - val_loss: 0.4381 - val_accuracy: 0.8354\n",
      "Epoch 10/25\n",
      "46/46 [==============================] - 154s 3s/step - loss: 0.4799 - accuracy: 0.8043 - val_loss: 0.4030 - val_accuracy: 0.8521\n",
      "Epoch 11/25\n",
      "46/46 [==============================] - 153s 3s/step - loss: 0.4929 - accuracy: 0.8036 - val_loss: 0.3783 - val_accuracy: 0.8604\n",
      "Epoch 12/25\n",
      "46/46 [==============================] - 151s 3s/step - loss: 0.4822 - accuracy: 0.8161 - val_loss: 0.3987 - val_accuracy: 0.8521\n",
      "Epoch 13/25\n",
      "46/46 [==============================] - 155s 3s/step - loss: 0.4826 - accuracy: 0.8003 - val_loss: 0.3771 - val_accuracy: 0.8625\n",
      "Epoch 14/25\n",
      "46/46 [==============================] - 152s 3s/step - loss: 0.4403 - accuracy: 0.8279 - val_loss: 0.3679 - val_accuracy: 0.8687\n",
      "Epoch 15/25\n",
      "46/46 [==============================] - 153s 3s/step - loss: 0.4294 - accuracy: 0.8321 - val_loss: 0.4119 - val_accuracy: 0.8438\n",
      "Epoch 16/25\n",
      "46/46 [==============================] - 154s 3s/step - loss: 0.4273 - accuracy: 0.8355 - val_loss: 0.3735 - val_accuracy: 0.8562\n",
      "Epoch 17/25\n",
      "46/46 [==============================] - 152s 3s/step - loss: 0.4402 - accuracy: 0.8293 - val_loss: 0.3541 - val_accuracy: 0.8750\n",
      "Epoch 18/25\n",
      "46/46 [==============================] - 154s 3s/step - loss: 0.4162 - accuracy: 0.8328 - val_loss: 0.3668 - val_accuracy: 0.8625\n",
      "Epoch 19/25\n",
      "46/46 [==============================] - 156s 3s/step - loss: 0.4076 - accuracy: 0.8439 - val_loss: 0.3830 - val_accuracy: 0.8500\n",
      "Epoch 20/25\n",
      "46/46 [==============================] - 153s 3s/step - loss: 0.3990 - accuracy: 0.8425 - val_loss: 0.3540 - val_accuracy: 0.8646\n",
      "Epoch 21/25\n",
      "46/46 [==============================] - 155s 3s/step - loss: 0.3963 - accuracy: 0.8446 - val_loss: 0.3524 - val_accuracy: 0.8667\n",
      "Epoch 22/25\n",
      "46/46 [==============================] - 160s 3s/step - loss: 0.3980 - accuracy: 0.8452 - val_loss: 0.3735 - val_accuracy: 0.8500\n",
      "Epoch 23/25\n",
      "46/46 [==============================] - 166s 4s/step - loss: 0.3697 - accuracy: 0.8563 - val_loss: 0.3504 - val_accuracy: 0.8625\n",
      "Epoch 24/25\n",
      "46/46 [==============================] - 167s 4s/step - loss: 0.3608 - accuracy: 0.8716 - val_loss: 0.3625 - val_accuracy: 0.8625\n",
      "Epoch 25/25\n",
      "46/46 [==============================] - 168s 4s/step - loss: 0.3837 - accuracy: 0.8452 - val_loss: 0.3344 - val_accuracy: 0.8771\n"
     ]
    }
   ],
   "source": [
    "History=model.fit_generator(\n",
    "    trainingAugmentation.flow(X_train,Y_train,batch_size=32),\n",
    "    steps_per_epoch=len(X_train)//32,\n",
    "    validation_data=validationAugmentation.flow(X_test,Y_test),\n",
    "    validation_steps=len(X_test)//32,\n",
    "    epochs=epoch\n",
    ")"
   ]
  },
  {
   "cell_type": "code",
   "execution_count": 77,
   "metadata": {},
   "outputs": [
    {
     "name": "stdout",
     "output_type": "stream",
     "text": [
      "INFO:tensorflow:Assets written to: F:\\sgp_5sem\\output\\videoclassificationModel\\assets\n"
     ]
    }
   ],
   "source": [
    "model.save(outputmodel)\n",
    "lbinarizer=open(r\"F:\\sgp_5sem\\output\\videoclassificationbinarizer.pickle\",\"wb\")\n",
    "lbinarizer.write(pickle.dumps(lb))\n",
    "lbinarizer.close()"
   ]
  },
  {
   "cell_type": "code",
   "execution_count": null,
   "metadata": {},
   "outputs": [],
   "source": []
  }
 ],
 "metadata": {
  "kernelspec": {
   "display_name": "Python 3",
   "language": "python",
   "name": "python3"
  },
  "language_info": {
   "codemirror_mode": {
    "name": "ipython",
    "version": 3
   },
   "file_extension": ".py",
   "mimetype": "text/x-python",
   "name": "python",
   "nbconvert_exporter": "python",
   "pygments_lexer": "ipython3",
   "version": "3.8.3"
  }
 },
 "nbformat": 4,
 "nbformat_minor": 4
}
