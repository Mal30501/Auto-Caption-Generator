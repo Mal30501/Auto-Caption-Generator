{
 "cells": [
  {
   "cell_type": "code",
   "execution_count": 2,
   "metadata": {},
   "outputs": [],
   "source": [
    "import os\n",
    "import cv2\n",
    "import pickle\n",
    "import numpy as np\n",
    "from imutils import paths"
   ]
  },
  {
   "cell_type": "code",
   "execution_count": 4,
   "metadata": {},
   "outputs": [],
   "source": [
    "from sklearn.preprocessing import LabelBinarizer"
   ]
  },
  {
   "cell_type": "code",
   "execution_count": null,
   "metadata": {},
   "outputs": [],
   "source": []
  },
  {
   "cell_type": "code",
   "execution_count": 5,
   "metadata": {},
   "outputs": [],
   "source": [
    "from sklearn.model_selection import train_test_split"
   ]
  },
  {
   "cell_type": "code",
   "execution_count": 8,
   "metadata": {},
   "outputs": [
    {
     "ename": "ImportError",
     "evalue": "Keras requires TensorFlow 2.2 or higher. Install TensorFlow via `pip install tensorflow`",
     "output_type": "error",
     "traceback": [
      "\u001b[1;31m---------------------------------------------------------------------------\u001b[0m",
      "\u001b[1;31mImportError\u001b[0m                               Traceback (most recent call last)",
      "\u001b[1;32mc:\\users\\digant\\appdata\\local\\programs\\python\\python38-32\\lib\\site-packages\\tensorflow\\python\\pywrap_tensorflow.py\u001b[0m in \u001b[0;36mswig_import_helper\u001b[1;34m()\u001b[0m\n\u001b[0;32m     17\u001b[0m         \u001b[1;32mtry\u001b[0m\u001b[1;33m:\u001b[0m\u001b[1;33m\u001b[0m\u001b[1;33m\u001b[0m\u001b[0m\n\u001b[1;32m---> 18\u001b[1;33m             \u001b[0mfp\u001b[0m\u001b[1;33m,\u001b[0m \u001b[0mpathname\u001b[0m\u001b[1;33m,\u001b[0m \u001b[0mdescription\u001b[0m \u001b[1;33m=\u001b[0m \u001b[0mimp\u001b[0m\u001b[1;33m.\u001b[0m\u001b[0mfind_module\u001b[0m\u001b[1;33m(\u001b[0m\u001b[1;34m'_pywrap_tensorflow'\u001b[0m\u001b[1;33m,\u001b[0m \u001b[1;33m[\u001b[0m\u001b[0mdirname\u001b[0m\u001b[1;33m(\u001b[0m\u001b[0m__file__\u001b[0m\u001b[1;33m)\u001b[0m\u001b[1;33m]\u001b[0m\u001b[1;33m)\u001b[0m\u001b[1;33m\u001b[0m\u001b[1;33m\u001b[0m\u001b[0m\n\u001b[0m\u001b[0;32m     19\u001b[0m         \u001b[1;32mexcept\u001b[0m \u001b[0mImportError\u001b[0m\u001b[1;33m:\u001b[0m\u001b[1;33m\u001b[0m\u001b[1;33m\u001b[0m\u001b[0m\n",
      "\u001b[1;32mc:\\users\\digant\\appdata\\local\\programs\\python\\python38-32\\lib\\imp.py\u001b[0m in \u001b[0;36mfind_module\u001b[1;34m(name, path)\u001b[0m\n\u001b[0;32m    295\u001b[0m     \u001b[1;32melse\u001b[0m\u001b[1;33m:\u001b[0m\u001b[1;33m\u001b[0m\u001b[1;33m\u001b[0m\u001b[0m\n\u001b[1;32m--> 296\u001b[1;33m         \u001b[1;32mraise\u001b[0m \u001b[0mImportError\u001b[0m\u001b[1;33m(\u001b[0m\u001b[0m_ERR_MSG\u001b[0m\u001b[1;33m.\u001b[0m\u001b[0mformat\u001b[0m\u001b[1;33m(\u001b[0m\u001b[0mname\u001b[0m\u001b[1;33m)\u001b[0m\u001b[1;33m,\u001b[0m \u001b[0mname\u001b[0m\u001b[1;33m=\u001b[0m\u001b[0mname\u001b[0m\u001b[1;33m)\u001b[0m\u001b[1;33m\u001b[0m\u001b[1;33m\u001b[0m\u001b[0m\n\u001b[0m\u001b[0;32m    297\u001b[0m \u001b[1;33m\u001b[0m\u001b[0m\n",
      "\u001b[1;31mImportError\u001b[0m: No module named '_pywrap_tensorflow'",
      "\nDuring handling of the above exception, another exception occurred:\n",
      "\u001b[1;31mModuleNotFoundError\u001b[0m                       Traceback (most recent call last)",
      "\u001b[1;32mc:\\users\\digant\\appdata\\local\\programs\\python\\python38-32\\lib\\site-packages\\tensorflow\\python\\__init__.py\u001b[0m in \u001b[0;36m<module>\u001b[1;34m\u001b[0m\n\u001b[0;32m     65\u001b[0m     \u001b[1;31m# use `dlopen()` for dynamic loading.\u001b[0m\u001b[1;33m\u001b[0m\u001b[1;33m\u001b[0m\u001b[1;33m\u001b[0m\u001b[0m\n\u001b[1;32m---> 66\u001b[1;33m     \u001b[1;32mfrom\u001b[0m \u001b[0mtensorflow\u001b[0m\u001b[1;33m.\u001b[0m\u001b[0mpython\u001b[0m \u001b[1;32mimport\u001b[0m \u001b[0mpywrap_tensorflow\u001b[0m\u001b[1;33m\u001b[0m\u001b[1;33m\u001b[0m\u001b[0m\n\u001b[0m\u001b[0;32m     67\u001b[0m \u001b[1;32mexcept\u001b[0m \u001b[0mImportError\u001b[0m\u001b[1;33m:\u001b[0m\u001b[1;33m\u001b[0m\u001b[1;33m\u001b[0m\u001b[0m\n",
      "\u001b[1;32mc:\\users\\digant\\appdata\\local\\programs\\python\\python38-32\\lib\\site-packages\\tensorflow\\python\\pywrap_tensorflow.py\u001b[0m in \u001b[0;36m<module>\u001b[1;34m\u001b[0m\n\u001b[0;32m     27\u001b[0m             \u001b[1;32mreturn\u001b[0m \u001b[0m_mod\u001b[0m\u001b[1;33m\u001b[0m\u001b[1;33m\u001b[0m\u001b[0m\n\u001b[1;32m---> 28\u001b[1;33m     \u001b[0m_pywrap_tensorflow\u001b[0m \u001b[1;33m=\u001b[0m \u001b[0mswig_import_helper\u001b[0m\u001b[1;33m(\u001b[0m\u001b[1;33m)\u001b[0m\u001b[1;33m\u001b[0m\u001b[1;33m\u001b[0m\u001b[0m\n\u001b[0m\u001b[0;32m     29\u001b[0m     \u001b[1;32mdel\u001b[0m \u001b[0mswig_import_helper\u001b[0m\u001b[1;33m\u001b[0m\u001b[1;33m\u001b[0m\u001b[0m\n",
      "\u001b[1;32mc:\\users\\digant\\appdata\\local\\programs\\python\\python38-32\\lib\\site-packages\\tensorflow\\python\\pywrap_tensorflow.py\u001b[0m in \u001b[0;36mswig_import_helper\u001b[1;34m()\u001b[0m\n\u001b[0;32m     19\u001b[0m         \u001b[1;32mexcept\u001b[0m \u001b[0mImportError\u001b[0m\u001b[1;33m:\u001b[0m\u001b[1;33m\u001b[0m\u001b[1;33m\u001b[0m\u001b[0m\n\u001b[1;32m---> 20\u001b[1;33m             \u001b[1;32mimport\u001b[0m \u001b[0m_pywrap_tensorflow\u001b[0m\u001b[1;33m\u001b[0m\u001b[1;33m\u001b[0m\u001b[0m\n\u001b[0m\u001b[0;32m     21\u001b[0m             \u001b[1;32mreturn\u001b[0m \u001b[0m_pywrap_tensorflow\u001b[0m\u001b[1;33m\u001b[0m\u001b[1;33m\u001b[0m\u001b[0m\n",
      "\u001b[1;31mModuleNotFoundError\u001b[0m: No module named '_pywrap_tensorflow'",
      "\nDuring handling of the above exception, another exception occurred:\n",
      "\u001b[1;31mImportError\u001b[0m                               Traceback (most recent call last)",
      "\u001b[1;32mc:\\users\\digant\\appdata\\local\\programs\\python\\python38-32\\lib\\site-packages\\keras\\__init__.py\u001b[0m in \u001b[0;36m<module>\u001b[1;34m\u001b[0m\n\u001b[0;32m      2\u001b[0m \u001b[1;32mtry\u001b[0m\u001b[1;33m:\u001b[0m\u001b[1;33m\u001b[0m\u001b[1;33m\u001b[0m\u001b[0m\n\u001b[1;32m----> 3\u001b[1;33m     \u001b[1;32mfrom\u001b[0m \u001b[0mtensorflow\u001b[0m\u001b[1;33m.\u001b[0m\u001b[0mkeras\u001b[0m\u001b[1;33m.\u001b[0m\u001b[0mlayers\u001b[0m\u001b[1;33m.\u001b[0m\u001b[0mexperimental\u001b[0m\u001b[1;33m.\u001b[0m\u001b[0mpreprocessing\u001b[0m \u001b[1;32mimport\u001b[0m \u001b[0mRandomRotation\u001b[0m\u001b[1;33m\u001b[0m\u001b[1;33m\u001b[0m\u001b[0m\n\u001b[0m\u001b[0;32m      4\u001b[0m \u001b[1;32mexcept\u001b[0m \u001b[0mImportError\u001b[0m\u001b[1;33m:\u001b[0m\u001b[1;33m\u001b[0m\u001b[1;33m\u001b[0m\u001b[0m\n",
      "\u001b[1;32mc:\\users\\digant\\appdata\\local\\programs\\python\\python38-32\\lib\\site-packages\\tensorflow\\__init__.py\u001b[0m in \u001b[0;36m<module>\u001b[1;34m\u001b[0m\n\u001b[0;32m     23\u001b[0m \u001b[1;31m# pylint: disable=wildcard-import\u001b[0m\u001b[1;33m\u001b[0m\u001b[1;33m\u001b[0m\u001b[1;33m\u001b[0m\u001b[0m\n\u001b[1;32m---> 24\u001b[1;33m \u001b[1;32mfrom\u001b[0m \u001b[0mtensorflow\u001b[0m\u001b[1;33m.\u001b[0m\u001b[0mpython\u001b[0m \u001b[1;32mimport\u001b[0m \u001b[1;33m*\u001b[0m\u001b[1;33m\u001b[0m\u001b[1;33m\u001b[0m\u001b[0m\n\u001b[0m\u001b[0;32m     25\u001b[0m \u001b[1;31m# pylint: enable=wildcard-import\u001b[0m\u001b[1;33m\u001b[0m\u001b[1;33m\u001b[0m\u001b[1;33m\u001b[0m\u001b[0m\n",
      "\u001b[1;32mc:\\users\\digant\\appdata\\local\\programs\\python\\python38-32\\lib\\site-packages\\tensorflow\\python\\__init__.py\u001b[0m in \u001b[0;36m<module>\u001b[1;34m\u001b[0m\n\u001b[0;32m     71\u001b[0m above this error message when asking for help.\"\"\" % traceback.format_exc()\n\u001b[1;32m---> 72\u001b[1;33m   \u001b[1;32mraise\u001b[0m \u001b[0mImportError\u001b[0m\u001b[1;33m(\u001b[0m\u001b[0mmsg\u001b[0m\u001b[1;33m)\u001b[0m\u001b[1;33m\u001b[0m\u001b[1;33m\u001b[0m\u001b[0m\n\u001b[0m\u001b[0;32m     73\u001b[0m \u001b[1;33m\u001b[0m\u001b[0m\n",
      "\u001b[1;31mImportError\u001b[0m: Traceback (most recent call last):\n  File \"c:\\users\\digant\\appdata\\local\\programs\\python\\python38-32\\lib\\site-packages\\tensorflow\\python\\pywrap_tensorflow.py\", line 18, in swig_import_helper\n    fp, pathname, description = imp.find_module('_pywrap_tensorflow', [dirname(__file__)])\n  File \"c:\\users\\digant\\appdata\\local\\programs\\python\\python38-32\\lib\\imp.py\", line 296, in find_module\n    raise ImportError(_ERR_MSG.format(name), name=name)\nImportError: No module named '_pywrap_tensorflow'\n\nDuring handling of the above exception, another exception occurred:\n\nTraceback (most recent call last):\n  File \"c:\\users\\digant\\appdata\\local\\programs\\python\\python38-32\\lib\\site-packages\\tensorflow\\python\\__init__.py\", line 66, in <module>\n    from tensorflow.python import pywrap_tensorflow\n  File \"c:\\users\\digant\\appdata\\local\\programs\\python\\python38-32\\lib\\site-packages\\tensorflow\\python\\pywrap_tensorflow.py\", line 28, in <module>\n    _pywrap_tensorflow = swig_import_helper()\n  File \"c:\\users\\digant\\appdata\\local\\programs\\python\\python38-32\\lib\\site-packages\\tensorflow\\python\\pywrap_tensorflow.py\", line 20, in swig_import_helper\n    import _pywrap_tensorflow\nModuleNotFoundError: No module named '_pywrap_tensorflow'\n\n\nFailed to load the native TensorFlow runtime.\n\nSee https://github.com/tensorflow/tensorflow/blob/master/tensorflow/g3doc/get_started/os_setup.md#import_error\n\nfor some common reasons and solutions.  Include the entire stack trace\nabove this error message when asking for help.",
      "\nDuring handling of the above exception, another exception occurred:\n",
      "\u001b[1;31mImportError\u001b[0m                               Traceback (most recent call last)",
      "\u001b[1;32m<ipython-input-8-f16f2923e2c3>\u001b[0m in \u001b[0;36m<module>\u001b[1;34m\u001b[0m\n\u001b[1;32m----> 1\u001b[1;33m \u001b[1;32mfrom\u001b[0m \u001b[0mkeras\u001b[0m\u001b[1;33m.\u001b[0m\u001b[0mpreprocessing\u001b[0m\u001b[1;33m.\u001b[0m\u001b[0mimage\u001b[0m \u001b[1;32mimport\u001b[0m \u001b[0mImageDataGenerator\u001b[0m\u001b[1;33m\u001b[0m\u001b[1;33m\u001b[0m\u001b[0m\n\u001b[0m\u001b[0;32m      2\u001b[0m \u001b[1;33m\u001b[0m\u001b[0m\n\u001b[0;32m      3\u001b[0m \u001b[1;32mfrom\u001b[0m \u001b[0mkeras\u001b[0m\u001b[1;33m.\u001b[0m\u001b[0mapplications\u001b[0m \u001b[1;32mimport\u001b[0m \u001b[0mResNet50\u001b[0m\u001b[1;33m\u001b[0m\u001b[1;33m\u001b[0m\u001b[0m\n\u001b[0;32m      4\u001b[0m \u001b[1;32mfrom\u001b[0m \u001b[0mkeras\u001b[0m\u001b[1;33m.\u001b[0m\u001b[0mlayers\u001b[0m \u001b[1;32mimport\u001b[0m \u001b[0mInput\u001b[0m\u001b[1;33m\u001b[0m\u001b[1;33m\u001b[0m\u001b[0m\n\u001b[0;32m      5\u001b[0m \u001b[1;32mfrom\u001b[0m \u001b[0mkeras\u001b[0m\u001b[1;33m.\u001b[0m\u001b[0mlayers\u001b[0m\u001b[1;33m.\u001b[0m\u001b[0mpooling\u001b[0m \u001b[1;32mimport\u001b[0m \u001b[0mAveragePooling2D\u001b[0m\u001b[1;33m\u001b[0m\u001b[1;33m\u001b[0m\u001b[0m\n",
      "\u001b[1;32mc:\\users\\digant\\appdata\\local\\programs\\python\\python38-32\\lib\\site-packages\\keras\\__init__.py\u001b[0m in \u001b[0;36m<module>\u001b[1;34m\u001b[0m\n\u001b[0;32m      3\u001b[0m     \u001b[1;32mfrom\u001b[0m \u001b[0mtensorflow\u001b[0m\u001b[1;33m.\u001b[0m\u001b[0mkeras\u001b[0m\u001b[1;33m.\u001b[0m\u001b[0mlayers\u001b[0m\u001b[1;33m.\u001b[0m\u001b[0mexperimental\u001b[0m\u001b[1;33m.\u001b[0m\u001b[0mpreprocessing\u001b[0m \u001b[1;32mimport\u001b[0m \u001b[0mRandomRotation\u001b[0m\u001b[1;33m\u001b[0m\u001b[1;33m\u001b[0m\u001b[0m\n\u001b[0;32m      4\u001b[0m \u001b[1;32mexcept\u001b[0m \u001b[0mImportError\u001b[0m\u001b[1;33m:\u001b[0m\u001b[1;33m\u001b[0m\u001b[1;33m\u001b[0m\u001b[0m\n\u001b[1;32m----> 5\u001b[1;33m     raise ImportError(\n\u001b[0m\u001b[0;32m      6\u001b[0m         \u001b[1;34m'Keras requires TensorFlow 2.2 or higher. '\u001b[0m\u001b[1;33m\u001b[0m\u001b[1;33m\u001b[0m\u001b[0m\n\u001b[0;32m      7\u001b[0m         'Install TensorFlow via `pip install tensorflow`')\n",
      "\u001b[1;31mImportError\u001b[0m: Keras requires TensorFlow 2.2 or higher. Install TensorFlow via `pip install tensorflow`"
     ]
    }
   ],
   "source": [
    "from keras.preprocessing.image import ImageDataGenerator\n",
    "\n",
    "from keras.applications import ResNet50\n",
    "from keras.layers import Input\n",
    "from keras.layers.pooling import AveragePooling2D\n",
    "from keras.layers.core import Flatten\n",
    "from keras.layers.core import Dense\n",
    "\n",
    "from keras.layers.core import Dropout\n",
    "\n",
    "from keras.models import Model\n",
    "from keras.optimizers import SGD"
   ]
  },
  {
   "cell_type": "code",
   "execution_count": 5,
   "metadata": {},
   "outputs": [],
   "source": [
    "datapath=r\"F:\\sgp_5sem\\data\"\n",
    "outputmodel=r\"F:\\sgp_5sem\\output\\videoclassificationModel\"\n",
    "outputlabelbinarizer=r\"F:\\sgp_5sem\\output\\videoclassificationbinarizer\"\n",
    "epoch=35"
   ]
  },
  {
   "cell_type": "code",
   "execution_count": 6,
   "metadata": {},
   "outputs": [
    {
     "name": "stdout",
     "output_type": "stream",
     "text": [
      "images being loaded\n"
     ]
    }
   ],
   "source": [
    "Sports_Labels=set(['bowled','catchout','boundry','runout'])\n",
    "print(\"images being loaded\")\n",
    "pathtoimages=list(paths.list_images(datapath))\n",
    "data=[]\n",
    "labels=[]\n",
    "\n",
    "for images in pathtoimages:\n",
    "    label=images.split(os.path.sep)[-2]\n",
    "    if label not in Sports_Labels:\n",
    "        continue\n",
    "    image=cv2.imread(images)\n",
    "    image=cv2.cvtColor(image,cv2.COLOR_BGR2RGB)\n",
    "    image=cv2.resize(image,(244,244))\n",
    "    data.append(image)\n",
    "    labels.append(label)"
   ]
  },
  {
   "cell_type": "code",
   "execution_count": 7,
   "metadata": {},
   "outputs": [],
   "source": [
    "data=np.array(data)\n",
    "labels=np.array(labels)\n",
    "\n",
    "lb=LabelBinarizer()\n",
    "labels=lb.fit_transform(labels)"
   ]
  },
  {
   "cell_type": "code",
   "execution_count": 8,
   "metadata": {},
   "outputs": [],
   "source": [
    "(X_train, X_test,Y_train, Y_test)=train_test_split(data,labels,test_size=0.25, stratify=labels,random_state=42)"
   ]
  },
  {
   "cell_type": "code",
   "execution_count": 9,
   "metadata": {},
   "outputs": [],
   "source": [
    "trainingAugmentation=ImageDataGenerator(\n",
    "    rotation_range=30,\n",
    "    zoom_range=0.15,\n",
    "    width_shift_range=0.2,\n",
    "    height_shift_range=0.2,\n",
    "    shear_range=0.15,\n",
    "    horizontal_flip=True,\n",
    "    fill_mode=\"nearest\"\n",
    ")\n",
    "\n",
    "validationAugmentation=ImageDataGenerator()\n",
    "mean=np.array([123.68,116.779,103.939],dtype=\"float32\")\n",
    "trainingAugmentation.mean=mean\n",
    "validationAugmentation.mean=mean"
   ]
  },
  {
   "cell_type": "code",
   "execution_count": 10,
   "metadata": {},
   "outputs": [],
   "source": [
    "baseModel=ResNet50(weights=\"imagenet\",include_top=False, input_tensor=Input(shape=(244,244,3)))\n",
    "\n",
    "headModel=baseModel.output\n",
    "headModel=AveragePooling2D(pool_size=(7,7))(headModel)\n",
    "headModel=Flatten(name=\"flatten\")(headModel)\n",
    "    headModel=Dense(5112,activation=\"relu\")(headModel)\n",
    "headModel=Dropout(0.5)(headModel)\n",
    "headModel=Dense(len(lb.classes_),activation=\"softmax\")(headModel)\n",
    "model=Model(inputs=baseModel.input,outputs=headModel)\n",
    "\n",
    "for basemodelLayers in baseModel.layers:\n",
    "    basemodelLayers.trainable=False"
   ]
  },
  {
   "cell_type": "code",
   "execution_count": 11,
   "metadata": {},
   "outputs": [],
   "source": [
    "opt=SGD(lr=0.0001,momentum=0.9,decay=0.0001/epoch)"
   ]
  },
  {
   "cell_type": "code",
   "execution_count": 12,
   "metadata": {},
   "outputs": [],
   "source": [
    "model.compile(loss=\"categorical_crossentropy\",optimizer=opt,metrics=[\"accuracy\"])"
   ]
  },
  {
   "cell_type": "code",
   "execution_count": 13,
   "metadata": {},
   "outputs": [
    {
     "name": "stdout",
     "output_type": "stream",
     "text": [
      "WARNING:tensorflow:From <ipython-input-13-8c64adf43ee0>:1: Model.fit_generator (from tensorflow.python.keras.engine.training) is deprecated and will be removed in a future version.\n",
      "Instructions for updating:\n",
      "Please use Model.fit, which supports generators.\n",
      "Epoch 1/35\n",
      "74/74 [==============================] - 262s 4s/step - loss: 1.2401 - accuracy: 0.4537 - val_loss: 0.8736 - val_accuracy: 0.6562\n",
      "Epoch 2/35\n",
      "74/74 [==============================] - 243s 3s/step - loss: 0.8706 - accuracy: 0.6553 - val_loss: 0.6378 - val_accuracy: 0.8047\n",
      "Epoch 3/35\n",
      "74/74 [==============================] - 231s 3s/step - loss: 0.7228 - accuracy: 0.7296 - val_loss: 0.5518 - val_accuracy: 0.8229\n",
      "Epoch 4/35\n",
      "74/74 [==============================] - 244s 3s/step - loss: 0.6470 - accuracy: 0.7564 - val_loss: 0.4854 - val_accuracy: 0.8438\n",
      "Epoch 5/35\n",
      "74/74 [==============================] - 239s 3s/step - loss: 0.5807 - accuracy: 0.7861 - val_loss: 0.4456 - val_accuracy: 0.8438\n",
      "Epoch 6/35\n",
      "74/74 [==============================] - 246s 3s/step - loss: 0.5461 - accuracy: 0.8048 - val_loss: 0.4225 - val_accuracy: 0.8607\n",
      "Epoch 7/35\n",
      "74/74 [==============================] - 233s 3s/step - loss: 0.5231 - accuracy: 0.8188 - val_loss: 0.3981 - val_accuracy: 0.8685\n",
      "Epoch 8/35\n",
      "74/74 [==============================] - 257s 3s/step - loss: 0.4813 - accuracy: 0.8302 - val_loss: 0.3806 - val_accuracy: 0.8867\n",
      "Epoch 9/35\n",
      "74/74 [==============================] - 255s 3s/step - loss: 0.4689 - accuracy: 0.8345 - val_loss: 0.3485 - val_accuracy: 0.8854\n",
      "Epoch 10/35\n",
      "74/74 [==============================] - 245s 3s/step - loss: 0.4458 - accuracy: 0.8493 - val_loss: 0.3500 - val_accuracy: 0.8945\n",
      "Epoch 11/35\n",
      "74/74 [==============================] - 231s 3s/step - loss: 0.4174 - accuracy: 0.8540 - val_loss: 0.3305 - val_accuracy: 0.8893\n",
      "Epoch 12/35\n",
      "74/74 [==============================] - 239s 3s/step - loss: 0.4162 - accuracy: 0.8612 - val_loss: 0.3127 - val_accuracy: 0.9076\n",
      "Epoch 13/35\n",
      "74/74 [==============================] - 241s 3s/step - loss: 0.3783 - accuracy: 0.8820 - val_loss: 0.3061 - val_accuracy: 0.9049\n",
      "Epoch 14/35\n",
      "74/74 [==============================] - 260s 4s/step - loss: 0.3684 - accuracy: 0.8761 - val_loss: 0.2988 - val_accuracy: 0.9128\n",
      "Epoch 15/35\n",
      "74/74 [==============================] - 258s 3s/step - loss: 0.3785 - accuracy: 0.8739 - val_loss: 0.2873 - val_accuracy: 0.8997\n",
      "Epoch 16/35\n",
      "74/74 [==============================] - 249s 3s/step - loss: 0.3587 - accuracy: 0.8756 - val_loss: 0.2768 - val_accuracy: 0.9193\n",
      "Epoch 17/35\n",
      "74/74 [==============================] - 240s 3s/step - loss: 0.3526 - accuracy: 0.8829 - val_loss: 0.2674 - val_accuracy: 0.9258\n",
      "Epoch 18/35\n",
      "74/74 [==============================] - 239s 3s/step - loss: 0.3501 - accuracy: 0.8875 - val_loss: 0.2581 - val_accuracy: 0.9206\n",
      "Epoch 19/35\n",
      "74/74 [==============================] - 247s 3s/step - loss: 0.3201 - accuracy: 0.8926 - val_loss: 0.2498 - val_accuracy: 0.9115\n",
      "Epoch 20/35\n",
      "74/74 [==============================] - 243s 3s/step - loss: 0.3261 - accuracy: 0.8922 - val_loss: 0.2562 - val_accuracy: 0.9193\n",
      "Epoch 21/35\n",
      "74/74 [==============================] - 243s 3s/step - loss: 0.3140 - accuracy: 0.8960 - val_loss: 0.2414 - val_accuracy: 0.9271\n",
      "Epoch 22/35\n",
      "74/74 [==============================] - 244s 3s/step - loss: 0.3104 - accuracy: 0.8930 - val_loss: 0.2397 - val_accuracy: 0.9232\n",
      "Epoch 23/35\n",
      "74/74 [==============================] - 240s 3s/step - loss: 0.3045 - accuracy: 0.9007 - val_loss: 0.2247 - val_accuracy: 0.9297\n",
      "Epoch 24/35\n",
      "74/74 [==============================] - 241s 3s/step - loss: 0.2927 - accuracy: 0.8986 - val_loss: 0.2314 - val_accuracy: 0.9232\n",
      "Epoch 25/35\n",
      "74/74 [==============================] - 237s 3s/step - loss: 0.2966 - accuracy: 0.8964 - val_loss: 0.2284 - val_accuracy: 0.9245\n",
      "Epoch 26/35\n",
      "74/74 [==============================] - 239s 3s/step - loss: 0.2827 - accuracy: 0.9053 - val_loss: 0.2191 - val_accuracy: 0.9310\n",
      "Epoch 27/35\n",
      "74/74 [==============================] - 235s 3s/step - loss: 0.2757 - accuracy: 0.9032 - val_loss: 0.2126 - val_accuracy: 0.9284\n",
      "Epoch 28/35\n",
      "74/74 [==============================] - 233s 3s/step - loss: 0.2599 - accuracy: 0.9164 - val_loss: 0.2153 - val_accuracy: 0.9193\n",
      "Epoch 29/35\n",
      "74/74 [==============================] - 233s 3s/step - loss: 0.2686 - accuracy: 0.9134 - val_loss: 0.2000 - val_accuracy: 0.9297\n",
      "Epoch 30/35\n",
      "74/74 [==============================] - 236s 3s/step - loss: 0.2718 - accuracy: 0.9113 - val_loss: 0.1979 - val_accuracy: 0.9362\n",
      "Epoch 31/35\n",
      "74/74 [==============================] - 235s 3s/step - loss: 0.2591 - accuracy: 0.9164 - val_loss: 0.1983 - val_accuracy: 0.9323\n",
      "Epoch 32/35\n",
      "74/74 [==============================] - 229s 3s/step - loss: 0.2525 - accuracy: 0.9155 - val_loss: 0.1964 - val_accuracy: 0.9323\n",
      "Epoch 33/35\n",
      "74/74 [==============================] - 227s 3s/step - loss: 0.2464 - accuracy: 0.9223 - val_loss: 0.1954 - val_accuracy: 0.9388\n",
      "Epoch 34/35\n",
      "74/74 [==============================] - 229s 3s/step - loss: 0.2538 - accuracy: 0.9147 - val_loss: 0.1923 - val_accuracy: 0.9323\n",
      "Epoch 35/35\n",
      "74/74 [==============================] - 227s 3s/step - loss: 0.2376 - accuracy: 0.9240 - val_loss: 0.1931 - val_accuracy: 0.9362\n"
     ]
    }
   ],
   "source": [
    "History=model.fit_generator(\n",
    "    trainingAugmentation.flow(X_train,Y_train,batch_size=32),\n",
    "    steps_per_epoch=len(X_train)//32,\n",
    "    validation_data=validationAugmentation.flow(X_test,Y_test),\n",
    "    validation_steps=len(X_test)//32,\n",
    "    epochs=epoch\n",
    ")"
   ]
  },
  {
   "cell_type": "code",
   "execution_count": 15,
   "metadata": {},
   "outputs": [
    {
     "name": "stdout",
     "output_type": "stream",
     "text": [
      "INFO:tensorflow:Assets written to: F:\\sgp_5sem\\output\\videoclassificationModel\\assets\n"
     ]
    }
   ],
   "source": [
    "model.save(outputmodel)\n",
    "lbinarizer=open(r\"F:\\sgp_5sem\\output\\videoclassificationbinarizer.pickle\",\"wb\")\n",
    "lbinarizer.write(pickle.dumps(lb))\n",
    "lbinarizer.close()"
   ]
  },
  {
   "cell_type": "code",
   "execution_count": null,
   "metadata": {},
   "outputs": [],
   "source": []
  },
  {
   "cell_type": "code",
   "execution_count": null,
   "metadata": {},
   "outputs": [],
   "source": []
  }
 ],
 "metadata": {
  "kernelspec": {
   "display_name": "Python 3",
   "language": "python",
   "name": "python3"
  },
  "language_info": {
   "codemirror_mode": {
    "name": "ipython",
    "version": 3
   },
   "file_extension": ".py",
   "mimetype": "text/x-python",
   "name": "python",
   "nbconvert_exporter": "python",
   "pygments_lexer": "ipython3",
   "version": "3.8.0"
  }
 },
 "nbformat": 4,
 "nbformat_minor": 4
}
